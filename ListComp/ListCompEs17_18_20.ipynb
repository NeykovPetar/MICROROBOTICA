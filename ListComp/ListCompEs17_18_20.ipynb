{
 "cells": [
  {
   "cell_type": "code",
   "execution_count": 7,
   "id": "21a23d48-8c69-4a86-b9f4-e72535de8261",
   "metadata": {},
   "outputs": [
    {
     "name": "stdout",
     "output_type": "stream",
     "text": [
      "[0, 7, 14, 21, 28, 35, 42, 49]\n"
     ]
    }
   ],
   "source": [
    "l = [i for i in range(0,50) if i % 7 == 0]\n",
    "print (l)"
   ]
  },
  {
   "cell_type": "code",
   "execution_count": 19,
   "id": "950ecb74-e58f-4a44-92cd-e140c5aaf0fc",
   "metadata": {},
   "outputs": [
    {
     "name": "stdout",
     "output_type": "stream",
     "text": [
      "cio\n"
     ]
    }
   ],
   "source": [
    "s = \"ciao\"\n",
    "s_a = [c for c in s if c != \"a\"] #join di stringhe\n",
    "s = \"\".join(s_a)\n",
    "print (s)"
   ]
  },
  {
   "cell_type": "code",
   "execution_count": 54,
   "id": "8c76e7e8-ef0a-4e11-b143-d0a4c687982f",
   "metadata": {},
   "outputs": [
    {
     "name": "stdout",
     "output_type": "stream",
     "text": [
      "[2, 4, 8, 16, 32, 64, 128, 256, 512, 1024]\n"
     ]
    }
   ],
   "source": [
    "#ES17\n",
    "n = 1025\n",
    "pot = [2**i for i in range(1,n+1) if 2**i <n]\n",
    "print(pot)"
   ]
  },
  {
   "cell_type": "code",
   "execution_count": 53,
   "id": "86a93d1c-490f-451f-9502-492bed26451a",
   "metadata": {},
   "outputs": [
    {
     "name": "stdout",
     "output_type": "stream",
     "text": [
      "[1, 9, 25, 49, 81, 121]\n"
     ]
    }
   ],
   "source": [
    "#ES18\n",
    "n = 122\n",
    "quad = [i*i for i in range(1,n+1) if i%2 and i*i < n] \n",
    "print(quad)"
   ]
  },
  {
   "cell_type": "code",
   "execution_count": 72,
   "id": "556b2371-8440-412f-9892-45914a0b0be1",
   "metadata": {},
   "outputs": [
    {
     "data": {
      "text/plain": [
       "[[1, 2, 3, 4, 5, 6, 7, 8, 9, 10],\n",
       " [2, 4, 6, 8, 10, 12, 14, 16, 18, 20],\n",
       " [3, 6, 9, 12, 15, 18, 21, 24, 27, 30],\n",
       " [4, 8, 12, 16, 20, 24, 28, 32, 36, 40],\n",
       " [5, 10, 15, 20, 25, 30, 35, 40, 45, 50],\n",
       " [6, 12, 18, 24, 30, 36, 42, 48, 54, 60],\n",
       " [7, 14, 21, 28, 35, 42, 49, 56, 63, 70],\n",
       " [8, 16, 24, 32, 40, 48, 56, 64, 72, 80],\n",
       " [9, 18, 27, 36, 45, 54, 63, 72, 81, 90]]"
      ]
     },
     "execution_count": 72,
     "metadata": {},
     "output_type": "execute_result"
    }
   ],
   "source": [
    "#ES20\n",
    "n = 10\n",
    "tab = [[i*k for i in range(1,n+1)] for k in range(1,n)] \n",
    "tab"
   ]
  },
  {
   "cell_type": "code",
   "execution_count": 11,
   "id": "a06d4c0e-9590-42db-b391-f9e171281d81",
   "metadata": {},
   "outputs": [
    {
     "name": "stdin",
     "output_type": "stream",
     "text": [
      "Inseriera una parola: ciao\n"
     ]
    },
    {
     "name": "stdout",
     "output_type": "stream",
     "text": [
      "['c']\n"
     ]
    }
   ],
   "source": [
    "vocali = [\"a\",\"e\",\"i\",\"o\",\"u\",\"A\",\"E\",\"I\",\"O\",\"U\"]\n",
    "stringa = input(\"Inseriera una parola:\")\n",
    "senza_vocali = [lettera for lettera in stringa if lettera not in vocali] #es 21\n",
    "print (senza_vocali)"
   ]
  },
  {
   "cell_type": "code",
   "execution_count": 81,
   "id": "990823f0-86f7-4eeb-8a45-0b627669967d",
   "metadata": {},
   "outputs": [],
   "source": [
    "#ES 3\n",
    "def somma(a,b):\n",
    "    return a+b\n",
    "\n",
    "def prodotto(a,b):\n",
    "    return a*b\n",
    "\n",
    "def sottrazione(a,b):\n",
    "    return a-b\n",
    "\n",
    "def divisione(a,b):\n",
    "    return a/b\n",
    "\n",
    "d = {0:somma, 1:prodotto, 2:sottrazione, 3:divisione}"
   ]
  },
  {
   "cell_type": "code",
   "execution_count": 86,
   "id": "b6511e86-2476-4963-a2b7-71f1bf0dff30",
   "metadata": {},
   "outputs": [
    {
     "name": "stdin",
     "output_type": "stream",
     "text": [
      "Inserire l'operazione:  3\n",
      "Inserire il primo numero:  5\n",
      "Inserire il secondo numero:  2\n"
     ]
    },
    {
     "data": {
      "text/plain": [
       "2.5"
      ]
     },
     "execution_count": 86,
     "metadata": {},
     "output_type": "execute_result"
    }
   ],
   "source": [
    "n = int(input(\"Inserire l'operazione: \"))\n",
    "a = int(input(\"Inserire il primo numero: \"))\n",
    "b = int(input(\"Inserire il secondo numero: \"))\n",
    "\n",
    "d[n](a,b)"
   ]
  },
  {
   "cell_type": "code",
   "execution_count": 19,
   "id": "7f9f7493-6252-4a4a-b68a-c8d5048d911d",
   "metadata": {},
   "outputs": [],
   "source": [
    "#ES 13\n",
    "class Robot:\n",
    "    def __init__(self, nome, tipo, massa):\n",
    "        self.nome = nome\n",
    "        self.tipo = tipo\n",
    "        self.massa = massa\n",
    "        \n",
    "    def detPericolosita(self):\n",
    "        pericoloso = False\n",
    "        \n",
    "        if int(self.massa) > 100 and str(self.tipo) == \"umanoide\":\n",
    "            pericoloso = True\n",
    "        else:\n",
    "                pericoloso = False\n",
    "            \n",
    "        return pericoloso\n",
    "    \n",
    "    def stampaNome(self):\n",
    "        print(nome)\n",
    "            "
   ]
  },
  {
   "cell_type": "code",
   "execution_count": 21,
   "id": "857f12a2-c4ce-4643-96ea-160ea9c1a0f0",
   "metadata": {},
   "outputs": [
    {
     "name": "stdin",
     "output_type": "stream",
     "text": [
      "Inserire il nome del robot:  g\n",
      "Inserire il tipo del robot:  umanoide\n",
      "Inserire la massa del robot:  50\n"
     ]
    },
    {
     "name": "stdout",
     "output_type": "stream",
     "text": [
      "g\n",
      "Il robot non è pericoloso\n"
     ]
    }
   ],
   "source": [
    "nome = str(input(\"Inserire il nome del robot: \"))\n",
    "tipo = str(input(\"Inserire il tipo del robot: \"))\n",
    "massa = str(input(\"Inserire la massa del robot: \"))\n",
    "\n",
    "rob = Robot(nome,tipo,massa)\n",
    "\n",
    "rob.stampaNome()\n",
    "\n",
    "if(rob.detPericolosita() == True):\n",
    "    print(\"Il robot è pericoloso.\")\n",
    "else:\n",
    "    print(\"Il robot non è pericoloso\")"
   ]
  },
  {
   "cell_type": "code",
   "execution_count": 8,
   "id": "4d632b65-d0b1-4b55-890e-d60de3c5c434",
   "metadata": {},
   "outputs": [],
   "source": [
    "#ES 19\n",
    "from random import randint\n",
    "import csv\n",
    "\n",
    "alice = [randint(1,6) for _ in range(0,10)] #l'underscore serve per non salvare la variabile (in questo caso i)\n",
    "bob = [randint(1,6) for _ in range(0,10)]"
   ]
  },
  {
   "cell_type": "code",
   "execution_count": 9,
   "id": "d9baff6a-7830-4e39-999a-81e09637b0d2",
   "metadata": {},
   "outputs": [
    {
     "data": {
      "text/plain": [
       "<function TextIOWrapper.close()>"
      ]
     },
     "execution_count": 9,
     "metadata": {},
     "output_type": "execute_result"
    }
   ],
   "source": [
    "with open (\"lanci.csv\",\"w\") as csvfile:\n",
    "    \n",
    "    nomi = \"Alice\",\"Bob\"\n",
    "    writer = csv.writer(csvfile)\n",
    "    writer.writerow(nomi)\n",
    "    \n",
    "    for i in range(10):\n",
    "        writer.writerow([alice[i],bob[i]])\n",
    "                         \n",
    "csvfile.close"
   ]
  }
 ],
 "metadata": {
  "kernelspec": {
   "display_name": "Python 3 (ipykernel)",
   "language": "python",
   "name": "python3"
  },
  "language_info": {
   "codemirror_mode": {
    "name": "ipython",
    "version": 3
   },
   "file_extension": ".py",
   "mimetype": "text/x-python",
   "name": "python",
   "nbconvert_exporter": "python",
   "pygments_lexer": "ipython3",
   "version": "3.9.12"
  }
 },
 "nbformat": 4,
 "nbformat_minor": 5
}
